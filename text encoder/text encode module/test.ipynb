{
 "cells": [
  {
   "cell_type": "code",
   "execution_count": 9,
   "metadata": {},
   "outputs": [
    {
     "name": "stdout",
     "output_type": "stream",
     "text": [
      "{'tokenizer': {'padding': 'max_length', 'max_length': 514, 'truncation': True, 'return_token_type_ids': True, 'return_attention_mask': True}, 'text_embedding': {'type': 'pretrained', 'text_encoder': 'xlm-roberta-base', 'freeze': True, 'd_features': 768, 'd_model': 768, 'dropout': 0.1}}\n"
     ]
    }
   ],
   "source": [
    "import yaml\n",
    "\n",
    "# Function to load YAML configurations\n",
    "def load_yaml_config(filename):\n",
    "    with open(filename, 'r') as file:\n",
    "        config = yaml.load(file, Loader=yaml.FullLoader)  # Load the YAML file\n",
    "    return config\n",
    "\n",
    "# Load the configuration from visobert_config.yaml\n",
    "config = load_yaml_config('../config/visobert_config.yaml')\n",
    "\n",
    "# Now `config` contains the contents of the YAML file as a dictionary\n",
    "print(config)\n"
   ]
  },
  {
   "cell_type": "code",
   "execution_count": null,
   "metadata": {},
   "outputs": [],
   "source": []
  }
 ],
 "metadata": {
  "kernelspec": {
   "display_name": "env",
   "language": "python",
   "name": "python3"
  },
  "language_info": {
   "codemirror_mode": {
    "name": "ipython",
    "version": 3
   },
   "file_extension": ".py",
   "mimetype": "text/x-python",
   "name": "python",
   "nbconvert_exporter": "python",
   "pygments_lexer": "ipython3",
   "version": "3.11.9"
  }
 },
 "nbformat": 4,
 "nbformat_minor": 2
}
